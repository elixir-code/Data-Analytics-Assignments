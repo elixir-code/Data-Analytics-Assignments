{
 "cells": [
  {
   "cell_type": "markdown",
   "metadata": {},
   "source": [
    "## Data Analytics - Classification using Multinomial Naive Bayes and Decision Tree"
   ]
  },
  {
   "cell_type": "markdown",
   "metadata": {},
   "source": [
    "## Group Members : \n",
    "R.Mukesh - CED15I002,\n",
    "F Kiran Robert - EVD15I007,\n",
    "G Gajaraj - MPD15I011.\n"
   ]
  },
  {
   "cell_type": "markdown",
   "metadata": {},
   "source": [
    "In this Section we implement the classification of DNA sequences with its specific functions. Here we asume there are 7 functions specified by 7 class labels which are randomly updated for convinence. The Data is pre-precessed in the following ways.\n"
   ]
  },
  {
   "cell_type": "markdown",
   "metadata": {},
   "source": [
    "### Analogy: \n",
    "#### Words:\n",
    "K-mers\n",
    "#### Lines/Scentences:\n",
    "Combination of K-mers\n",
    "#### Book:\n",
    "Entire Genome"
   ]
  },
  {
   "cell_type": "markdown",
   "metadata": {},
   "source": [
    "By following the Above analogy, we can use any NLP algorithms to buid our classifier model. Hence we used our Sklearn NLP algorithms to convert our feature vector into bag of words and generated a random class label for each of our data to perform the classification."
   ]
  },
  {
   "cell_type": "markdown",
   "metadata": {},
   "source": [
    "## Classifier Model and Prediction "
   ]
  },
  {
   "cell_type": "markdown",
   "metadata": {},
   "source": [
    "Parse the Data using the BIO-python Package. Read the Dataset from the Fasta file"
   ]
  },
  {
   "cell_type": "code",
   "execution_count": 91,
   "metadata": {
    "scrolled": true
   },
   "outputs": [],
   "source": [
    "from Bio import SeqIO\n",
    "import random \n",
    "dna_sequences_records = SeqIO.parse('../datasets/DNASequences.fasta', 'fasta')\n",
    "\n",
    "# extract the DNA sequences as string\n",
    "dna_sequences = [dna_sequence.seq._data for dna_sequence in dna_sequences_records]\n",
    "\n",
    "\n"
   ]
  },
  {
   "cell_type": "markdown",
   "metadata": {},
   "source": [
    "Define a function to pre-precess the data and using the sklearn library get the bag of words model from the data set "
   ]
  },
  {
   "cell_type": "code",
   "execution_count": 149,
   "metadata": {},
   "outputs": [],
   "source": [
    "# function to get scentences from each dna sequence\n",
    "def get_scentences(seq,size):\n",
    "    words = []\n",
    "    for i in range(len(seq)  +1 - size):\n",
    "        word = seq[i:i+size]\n",
    "        words.append(word)\n",
    "    scentence  = ' '.join(words)\n",
    "    return scentence\n",
    " \n",
    "# books -> list of scentences in each sequence\n",
    "books = [];\n",
    "class_labels = [];\n",
    "for dna_sequence in dna_sequences:\n",
    "     book = get_scentences(dna_sequence, 5)\n",
    "     books.append(book)\n",
    "     class_labels.append(random.randint(0,6));\n",
    "\n",
    "\n",
    "# Bag of words Matrix using scikit learn library\n",
    "\n",
    "from sklearn.feature_extraction.text import CountVectorizer\n",
    "cv = CountVectorizer(ngram_range=(4,4))\n",
    "feature_vector = cv.fit_transform(books)\n",
    "\n"
   ]
  },
  {
   "cell_type": "markdown",
   "metadata": {},
   "source": [
    "Splitting the Data into Train and Test Data"
   ]
  },
  {
   "cell_type": "code",
   "execution_count": 142,
   "metadata": {},
   "outputs": [],
   "source": [
    "# Spliting the train and test data (80% for training and 20% for testing)\n",
    "from sklearn.model_selection import train_test_split                         \n",
    "X,X_t,Y,Y_t = train_test_split(feature_vector,class_labels,test_size = 0.3,random_state = None);"
   ]
  },
  {
   "cell_type": "markdown",
   "metadata": {},
   "source": [
    "## Multinomial Naive Bayes Model "
   ]
  },
  {
   "cell_type": "code",
   "execution_count": 143,
   "metadata": {},
   "outputs": [
    {
     "name": "stdout",
     "output_type": "stream",
     "text": [
      "Ok\n"
     ]
    }
   ],
   "source": [
    "\n",
    "# Using Multim=nomial Naive Bayes for training the Model as we have 7 classlabels\n",
    "from sklearn.naive_bayes import MultinomialNB\n",
    "model = MultinomialNB(alpha = 0.01);\n",
    "model.fit(X,Y)\n",
    "\n",
    "# Predicting the class labels or the testing phase\n",
    "class_labels_predicted= model.predict(X_t)\n",
    "print('Ok')"
   ]
  },
  {
   "cell_type": "markdown",
   "metadata": {},
   "source": [
    "## Performance metrics of our classifier"
   ]
  },
  {
   "cell_type": "code",
   "execution_count": 144,
   "metadata": {},
   "outputs": [
    {
     "name": "stdout",
     "output_type": "stream",
     "text": [
      "Accuracy =   0.15789473684210525 \n",
      "\n",
      " Precision =  [0.33333333 0.22222222 0.09459459 0.16666667 0.         0.25\n",
      " 0.2244898 ] \n",
      "\n",
      " Recall =  [0.07407407 0.11764706 0.28       0.16       0.         0.03571429\n",
      " 0.45833333] \n",
      "\n",
      "\n",
      " F1 Score =  [0.12121212 0.15384615 0.14141414 0.16326531 0.         0.0625\n",
      " 0.30136986]\n"
     ]
    }
   ],
   "source": [
    "from sklearn.metrics import confusion_matrix, f1_score, accuracy_score, precision_score, recall_score\n",
    "C = confusion_matrix(Y_t,class_labels_predicted)\n",
    "F1 = f1_score(Y_t,class_labels_predicted,average = None)\n",
    "Accuracy = accuracy_score(Y_t,class_labels_predicted,normalize = True)\n",
    "Precision = precision_score(Y_t,class_labels_predicted,average = None)\n",
    "Recall = recall_score(Y_t,class_labels_predicted,average = None)\n",
    "print(\"Accuracy =  \" ,Accuracy, '\\n\\n',\"Precision = \",Precision,'\\n\\n',\"Recall = \",Recall,'\\n\\n')\n",
    "print(\" F1 Score = \",F1)"
   ]
  },
  {
   "cell_type": "markdown",
   "metadata": {},
   "source": [
    "## Decision Tree Classifier"
   ]
  },
  {
   "cell_type": "markdown",
   "metadata": {},
   "source": [
    "We use the sklearn Decision tree classifier for text classificaion for above extracted features and calss labels and analyze the performance using the performance metrics"
   ]
  },
  {
   "cell_type": "code",
   "execution_count": 145,
   "metadata": {},
   "outputs": [],
   "source": [
    "from sklearn.tree import DecisionTreeClassifier\n",
    "model2 = DecisionTreeClassifier(max_depth = 10);\n",
    "model2 = model2.fit(X,Y);\n",
    "\n",
    "\n"
   ]
  },
  {
   "cell_type": "code",
   "execution_count": 150,
   "metadata": {},
   "outputs": [
    {
     "data": {
      "text/plain": [
       "'../results/Decision_Tree.pdf'"
      ]
     },
     "execution_count": 150,
     "metadata": {},
     "output_type": "execute_result"
    }
   ],
   "source": [
    "\n",
    "import graphviz\n",
    "data_tree = tree.export_graphviz(model2,filled = True, rounded = True,out_file = None);\n",
    "graph = graphviz.Source(data_tree) \n",
    "graph.render(\"../results/Decision_Tree\") "
   ]
  },
  {
   "cell_type": "code",
   "execution_count": 147,
   "metadata": {},
   "outputs": [],
   "source": [
    "class_labels_predicted_2 = model2.predict(X_t)"
   ]
  },
  {
   "cell_type": "code",
   "execution_count": 148,
   "metadata": {},
   "outputs": [
    {
     "name": "stdout",
     "output_type": "stream",
     "text": [
      "Accuracy =   0.1111111111111111 \n",
      "\n",
      " Precision =  [0.         0.25       0.         0.10447761 0.16666667 0.2\n",
      " 0.12068966] \n",
      "\n",
      " Recall =  [0.         0.05882353 0.         0.28       0.04       0.10714286\n",
      " 0.29166667] \n",
      "\n",
      "\n",
      " F1 Score =  [0.         0.0952381  0.         0.15217391 0.06451613 0.13953488\n",
      " 0.17073171]\n"
     ]
    }
   ],
   "source": [
    "C = confusion_matrix(Y_t,class_labels_predicted_2)\n",
    "F1_2 = f1_score(Y_t,class_labels_predicted_2,average = None)\n",
    "Accuracy_2 = accuracy_score(Y_t,class_labels_predicted_2,normalize = True)\n",
    "Precision_2 = precision_score(Y_t,class_labels_predicted_2,average = None)\n",
    "Recall_2 = recall_score(Y_t,class_labels_predicted_2,average = None)\n",
    "print(\"Accuracy =  \" ,Accuracy_2, '\\n\\n',\"Precision = \",Precision_2,'\\n\\n',\"Recall = \",Recall_2,'\\n\\n')\n",
    "print(\" F1 Score = \",F1_2)"
   ]
  }
 ],
 "metadata": {
  "kernelspec": {
   "display_name": "Python 3",
   "language": "python",
   "name": "python3"
  },
  "language_info": {
   "codemirror_mode": {
    "name": "ipython",
    "version": 3
   },
   "file_extension": ".py",
   "mimetype": "text/x-python",
   "name": "python",
   "nbconvert_exporter": "python",
   "pygments_lexer": "ipython3",
   "version": "3.5.2"
  }
 },
 "nbformat": 4,
 "nbformat_minor": 2
}
